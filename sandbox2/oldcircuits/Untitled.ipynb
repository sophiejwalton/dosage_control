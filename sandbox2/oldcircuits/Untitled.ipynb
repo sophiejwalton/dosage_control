{
 "cells": [
  {
   "cell_type": "code",
   "execution_count": 9,
   "metadata": {},
   "outputs": [],
   "source": [
    "import matplotlib.pyplot as plt\n",
    "import numpy as np"
   ]
  },
  {
   "cell_type": "code",
   "execution_count": 44,
   "metadata": {},
   "outputs": [],
   "source": [
    "\n",
    "plt.figure()\n",
    "\n",
    "gs = np.logspace(-1, 1, 10)\n",
    "kTs = np.linspace(3.1, 3.5)\n",
    "\n",
    "go = 10\n",
    "\n",
    "gs = 14650719.428953517*np.exp(-5*kTs)\n",
    "\n",
    "plt.plot(kTs, gs)\n",
    "plt.show()"
   ]
  },
  {
   "cell_type": "code",
   "execution_count": 42,
   "metadata": {},
   "outputs": [
    {
     "data": {
      "text/plain": [
       "array([50.        , 49.        , 48.03921569, 47.11538462, 46.22641509,\n",
       "       45.37037037, 44.54545455, 43.75      , 42.98245614, 42.24137931,\n",
       "       41.52542373, 40.83333333, 40.16393443, 39.51612903, 38.88888889,\n",
       "       38.28125   , 37.69230769, 37.12121212, 36.56716418, 36.02941176,\n",
       "       35.50724638, 35.        , 34.50704225, 34.02777778, 33.56164384,\n",
       "       33.10810811, 32.66666667, 32.23684211, 31.81818182, 31.41025641,\n",
       "       31.01265823, 30.625     , 30.24691358, 29.87804878, 29.51807229,\n",
       "       29.16666667, 28.82352941, 28.48837209, 28.16091954, 27.84090909,\n",
       "       27.52808989, 27.22222222, 26.92307692, 26.63043478, 26.34408602,\n",
       "       26.06382979, 25.78947368, 25.52083333, 25.25773196, 25.        ])"
      ]
     },
     "execution_count": 42,
     "metadata": {},
     "output_type": "execute_result"
    }
   ],
   "source": [
    "1000/Ts"
   ]
  },
  {
   "cell_type": "code",
   "execution_count": 34,
   "metadata": {},
   "outputs": [
    {
     "data": {
      "text/plain": [
       "array([0.13177295, 0.13240007, 0.13302842, 0.133658  , 0.1342888 ,\n",
       "       0.13492082, 0.13555406, 0.1361885 , 0.13682416, 0.13746102,\n",
       "       0.13809909, 0.13873835, 0.13937881, 0.14002046, 0.1406633 ,\n",
       "       0.14130733, 0.14195253, 0.14259891, 0.14324647, 0.1438952 ,\n",
       "       0.1445451 , 0.14519616, 0.14584838, 0.14650176, 0.14715629,\n",
       "       0.14781197, 0.1484688 , 0.14912677, 0.14978589, 0.15044613,\n",
       "       0.15110752, 0.15177003, 0.15243366, 0.15309842, 0.1537643 ,\n",
       "       0.1544313 , 0.1550994 , 0.15576862, 0.15643894, 0.15711036,\n",
       "       0.15778288, 0.1584565 , 0.1591312 , 0.159807  , 0.16048388,\n",
       "       0.16116184, 0.16184088, 0.16252099, 0.16320218, 0.16388443])"
      ]
     },
     "execution_count": 34,
     "metadata": {},
     "output_type": "execute_result"
    }
   ],
   "source": [
    "gs"
   ]
  },
  {
   "cell_type": "code",
   "execution_count": null,
   "metadata": {},
   "outputs": [],
   "source": [
    "1000/(Ts + 273)"
   ]
  },
  {
   "cell_type": "code",
   "execution_count": 23,
   "metadata": {},
   "outputs": [
    {
     "data": {
      "text/plain": [
       "3.1622776601683795"
      ]
     },
     "execution_count": 23,
     "metadata": {},
     "output_type": "execute_result"
    }
   ],
   "source": [
    "10**.5"
   ]
  },
  {
   "cell_type": "code",
   "execution_count": 24,
   "metadata": {},
   "outputs": [
    {
     "data": {
      "text/plain": [
       "0.31622776601683794"
      ]
     },
     "execution_count": 24,
     "metadata": {},
     "output_type": "execute_result"
    }
   ],
   "source": [
    "10**(-.5)"
   ]
  },
  {
   "cell_type": "code",
   "execution_count": 25,
   "metadata": {},
   "outputs": [
    {
     "data": {
      "text/plain": [
       "1.6487212707001282"
      ]
     },
     "execution_count": 25,
     "metadata": {},
     "output_type": "execute_result"
    }
   ],
   "source": [
    "np.exp(.5)"
   ]
  },
  {
   "cell_type": "code",
   "execution_count": 26,
   "metadata": {},
   "outputs": [
    {
     "data": {
      "text/plain": [
       "0.6065306597126334"
      ]
     },
     "execution_count": 26,
     "metadata": {},
     "output_type": "execute_result"
    }
   ],
   "source": [
    "np.exp(-.5)"
   ]
  },
  {
   "cell_type": "code",
   "execution_count": null,
   "metadata": {},
   "outputs": [],
   "source": []
  },
  {
   "cell_type": "code",
   "execution_count": null,
   "metadata": {},
   "outputs": [],
   "source": []
  }
 ],
 "metadata": {
  "kernelspec": {
   "display_name": "Python 3",
   "language": "python",
   "name": "python3"
  },
  "language_info": {
   "codemirror_mode": {
    "name": "ipython",
    "version": 3
   },
   "file_extension": ".py",
   "mimetype": "text/x-python",
   "name": "python",
   "nbconvert_exporter": "python",
   "pygments_lexer": "ipython3",
   "version": "3.7.7"
  }
 },
 "nbformat": 4,
 "nbformat_minor": 4
}
